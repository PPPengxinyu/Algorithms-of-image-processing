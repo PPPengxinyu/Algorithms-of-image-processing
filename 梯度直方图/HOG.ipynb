{
 "cells": [
  {
   "cell_type": "markdown",
   "metadata": {},
   "source": [
    "# 方向梯度直方图"
   ]
  },
  {
   "cell_type": "markdown",
   "metadata": {},
   "source": [
    "### 在HOG特征描述符中，梯度方向（定向梯度）的分布（直方图）被用作特征。图像的梯度（x和y导数）是有用的，因为在边缘和角落（突然强度变化的区域）周围的梯度幅度很大，并且我们知道边缘和角落包含关于物体形状的更多信息而不是平坦区域。"
   ]
  },
  {
   "cell_type": "code",
   "execution_count": 2,
   "metadata": {},
   "outputs": [],
   "source": [
    "import cv2 \n",
    "import numpy as np \n",
    "import matplotlib.pyplot as plt"
   ]
  },
  {
   "cell_type": "code",
   "execution_count": 3,
   "metadata": {},
   "outputs": [],
   "source": [
    "img = cv2.imread(\"lena_std.tif\")\n",
    "gray= cv2.cvtColor(img, cv2.COLOR_BGR2GRAY) #转化成灰度图像\n",
    "im = np.float32(img) / 255.0 #对像素做归一化处理"
   ]
  },
  {
   "cell_type": "code",
   "execution_count": 80,
   "metadata": {},
   "outputs": [],
   "source": [
    "# 生成x和y两个方向的Sobel算子\n",
    "gx = cv2.Sobel(img, cv2.CV_32F, 1, 0, ksize=1)\n",
    "gy = cv2.Sobel(img, cv2.CV_32F, 0, 1, ksize=1)\n",
    "mag, angle = cv2.cartToPolar(gx, gy, angleInDegrees=True) #使用Sobel算子提取边缘后计算梯度的幅值g和方向theta\n",
    "plt.imshow(np.uint8(mag)) #"
   ]
  },
  {
   "cell_type": "markdown",
   "metadata": {},
   "source": [
    "### 在每个像素处，梯度具有幅度和方向。对于彩色图像，评估三个通道的梯度。一个像素处的梯度的大小是三个通道的梯度的最大值，并且角度是对应于最大梯度的角度。"
   ]
  },
  {
   "cell_type": "code",
   "execution_count": 173,
   "metadata": {},
   "outputs": [],
   "source": [
    "#产生两个空矩阵，用以存放梯度最大值角度和梯度值\n",
    "max_gradition = np.zeros((512,512)) \n",
    "max_graditiontoangle = np.zeros((512,512))\n",
    "dict_bin = {} #设置字典，将统计的梯度角度和梯度值对应\n",
    "for i in range(512):\n",
    "    for j in range(512):\n",
    "        max_gradition[i, j] = int(max(mag[i, j])) #返回最大值赋值给最大梯度矩阵\n",
    "        ind = mag[i, j].tolist().index(max(mag[i, j])) #返回其最大值的索引，即最大值对应的通道\n",
    "        if angle[i, j][ind] > 180:\n",
    "            max_graditiontoangle[i, j] = int(angle[i, j][ind] -180) #大于180° 则减去180°\n",
    "            angle_new = int(angle[i, j][ind] -180)               \n",
    "        else:\n",
    "            angle_new = int(angle[i, j][ind])\n",
    "        (x,y) = divmod(angle_new, 20) #用角度除以20度，划分区间，商为x,余数为y,x决定了bin的区间\n",
    "        if x < 8:\n",
    "            x = x*20 #将商值*20转化为角度区间\n",
    "            if y/20 < 0.5:\n",
    "                dict_bin[x] = dict_bin.get(x,0) + int(max(mag[i, j]))\n",
    "            elif y/20 >0.5:\n",
    "                dict_bin[x+20] = dict_bin.get(x+20,0) + int(max(mag[i, j]))\n",
    "            else: #余数处于20中间的，将梯度值平分到两个梯度角度区间\n",
    "                dict_bin[x] = dict_bin.get(x,0) + int(max(mag[i, j]))/2\n",
    "                dict_bin[x+20] = dict_bin.get(x+20,0) + int(max(mag[i, j]))/2\n",
    "        if x == 8: #当大于160度时\n",
    "            x = x*20\n",
    "            if y/20 < 0.5:\n",
    "                dict_bin[x] = dict_bin.get(x,0) + int(max(mag[i, j]))\n",
    "            elif y/20 >0.5:\n",
    "                dict_bin[0] = dict_bin.get(0,0) + int(max(mag[i, j]))\n",
    "            else: \n",
    "                dict_bin[x] = dict_bin.get(x,0) + int(max(mag[i, j]))/2 #小于170度的部分划分给160度区间\n",
    "                dict_bin[0] = dict_bin.get(0,0) + int(max(mag[i, j]))/2 #大于170度的部分划分给0度区间"
   ]
  },
  {
   "cell_type": "code",
   "execution_count": 174,
   "metadata": {},
   "outputs": [],
   "source": [
    "dict_bin_sort = sorted(dict_bin.items(), key = lambda x:x[0]) #对梯度字典按照角度从小到大排序"
   ]
  },
  {
   "cell_type": "code",
   "execution_count": 175,
   "metadata": {},
   "outputs": [
    {
     "data": {
      "image/png": "[encoded data removed]",
      "text/plain": [
       "<Figure size 432x288 with 1 Axes>"
      ]
     },
     "metadata": {
      "needs_background": "light"
     },
     "output_type": "display_data"
    }
   ],
   "source": [
    "# 绘制梯度直方图\n",
    "\n",
    "plt.rcParams['font.sans-serif']=['SimHei'] #设置能显示中文的字体\n",
    "x_angle = [str(i[0]) for i in dict_bin_sort] #形成x轴坐标\n",
    "y_mag = [i[1] for i in dict_bin_sort] #形成y轴坐标\n",
    "plt.bar(x_angle, y_mag) #绘制条状图\n",
    "plt.xlabel('梯度角度'), plt.ylabel('总体度'), plt.title('梯度直方图')\n",
    "plt.show()"
   ]
  }
 ],
 "metadata": {
  "kernelspec": {
   "display_name": "Python 3",
   "language": "python",
   "name": "python3"
  },
  "language_info": {
   "codemirror_mode": {
    "name": "ipython",
    "version": 3
   },
   "file_extension": ".py",
   "mimetype": "text/x-python",
   "name": "python",
   "nbconvert_exporter": "python",
   "pygments_lexer": "ipython3",
   "version": "3.6.6"
  }
 },
 "nbformat": 4,
 "nbformat_minor": 4
}
